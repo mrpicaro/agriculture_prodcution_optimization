{
 "cells": [
  {
   "cell_type": "code",
   "execution_count": 1,
   "id": "be115c0a",
   "metadata": {},
   "outputs": [],
   "source": [
    "import numpy as np \n",
    "import pandas as pd\n",
    "import matplotlib.pyplot as plt \n",
    "import seaborn as sns \n",
    "from ipywidgets import interact\n"
   ]
  },
  {
   "cell_type": "code",
   "execution_count": 2,
   "id": "147bb886",
   "metadata": {},
   "outputs": [],
   "source": [
    "data  = pd.read_csv('data.csv')"
   ]
  },
  {
   "cell_type": "code",
   "execution_count": 3,
   "id": "735cec5a",
   "metadata": {},
   "outputs": [
    {
     "name": "stdout",
     "output_type": "stream",
     "text": [
      "Shape  of datasets :  (2200, 8)\n"
     ]
    }
   ],
   "source": [
    "print(\"Shape  of datasets : \" , data.shape)"
   ]
  },
  {
   "cell_type": "code",
   "execution_count": 4,
   "id": "77aeadbf",
   "metadata": {},
   "outputs": [
    {
     "data": {
      "text/html": [
       "<div>\n",
       "<style scoped>\n",
       "    .dataframe tbody tr th:only-of-type {\n",
       "        vertical-align: middle;\n",
       "    }\n",
       "\n",
       "    .dataframe tbody tr th {\n",
       "        vertical-align: top;\n",
       "    }\n",
       "\n",
       "    .dataframe thead th {\n",
       "        text-align: right;\n",
       "    }\n",
       "</style>\n",
       "<table border=\"1\" class=\"dataframe\">\n",
       "  <thead>\n",
       "    <tr style=\"text-align: right;\">\n",
       "      <th></th>\n",
       "      <th>N</th>\n",
       "      <th>P</th>\n",
       "      <th>K</th>\n",
       "      <th>temperature</th>\n",
       "      <th>humidity</th>\n",
       "      <th>ph</th>\n",
       "      <th>rainfall</th>\n",
       "      <th>label</th>\n",
       "    </tr>\n",
       "  </thead>\n",
       "  <tbody>\n",
       "    <tr>\n",
       "      <th>0</th>\n",
       "      <td>90</td>\n",
       "      <td>42</td>\n",
       "      <td>43</td>\n",
       "      <td>20.879744</td>\n",
       "      <td>82.002744</td>\n",
       "      <td>6.502985</td>\n",
       "      <td>202.935536</td>\n",
       "      <td>rice</td>\n",
       "    </tr>\n",
       "    <tr>\n",
       "      <th>1</th>\n",
       "      <td>85</td>\n",
       "      <td>58</td>\n",
       "      <td>41</td>\n",
       "      <td>21.770462</td>\n",
       "      <td>80.319644</td>\n",
       "      <td>7.038096</td>\n",
       "      <td>226.655537</td>\n",
       "      <td>rice</td>\n",
       "    </tr>\n",
       "    <tr>\n",
       "      <th>2</th>\n",
       "      <td>60</td>\n",
       "      <td>55</td>\n",
       "      <td>44</td>\n",
       "      <td>23.004459</td>\n",
       "      <td>82.320763</td>\n",
       "      <td>7.840207</td>\n",
       "      <td>263.964248</td>\n",
       "      <td>rice</td>\n",
       "    </tr>\n",
       "    <tr>\n",
       "      <th>3</th>\n",
       "      <td>74</td>\n",
       "      <td>35</td>\n",
       "      <td>40</td>\n",
       "      <td>26.491096</td>\n",
       "      <td>80.158363</td>\n",
       "      <td>6.980401</td>\n",
       "      <td>242.864034</td>\n",
       "      <td>rice</td>\n",
       "    </tr>\n",
       "    <tr>\n",
       "      <th>4</th>\n",
       "      <td>78</td>\n",
       "      <td>42</td>\n",
       "      <td>42</td>\n",
       "      <td>20.130175</td>\n",
       "      <td>81.604873</td>\n",
       "      <td>7.628473</td>\n",
       "      <td>262.717340</td>\n",
       "      <td>rice</td>\n",
       "    </tr>\n",
       "  </tbody>\n",
       "</table>\n",
       "</div>"
      ],
      "text/plain": [
       "    N   P   K  temperature   humidity        ph    rainfall label\n",
       "0  90  42  43    20.879744  82.002744  6.502985  202.935536  rice\n",
       "1  85  58  41    21.770462  80.319644  7.038096  226.655537  rice\n",
       "2  60  55  44    23.004459  82.320763  7.840207  263.964248  rice\n",
       "3  74  35  40    26.491096  80.158363  6.980401  242.864034  rice\n",
       "4  78  42  42    20.130175  81.604873  7.628473  262.717340  rice"
      ]
     },
     "execution_count": 4,
     "metadata": {},
     "output_type": "execute_result"
    }
   ],
   "source": [
    "data.head()"
   ]
  },
  {
   "cell_type": "code",
   "execution_count": 5,
   "id": "779fb20a",
   "metadata": {},
   "outputs": [
    {
     "data": {
      "text/plain": [
       "N              0\n",
       "P              0\n",
       "K              0\n",
       "temperature    0\n",
       "humidity       0\n",
       "ph             0\n",
       "rainfall       0\n",
       "label          0\n",
       "dtype: int64"
      ]
     },
     "execution_count": 5,
     "metadata": {},
     "output_type": "execute_result"
    }
   ],
   "source": [
    " data.isnull().sum()"
   ]
  },
  {
   "cell_type": "code",
   "execution_count": 6,
   "id": "a66c5106",
   "metadata": {},
   "outputs": [
    {
     "data": {
      "text/plain": [
       "rice           100\n",
       "maize          100\n",
       "jute           100\n",
       "cotton         100\n",
       "coconut        100\n",
       "papaya         100\n",
       "orange         100\n",
       "apple          100\n",
       "muskmelon      100\n",
       "watermelon     100\n",
       "grapes         100\n",
       "mango          100\n",
       "banana         100\n",
       "pomegranate    100\n",
       "lentil         100\n",
       "blackgram      100\n",
       "mungbean       100\n",
       "mothbeans      100\n",
       "pigeonpeas     100\n",
       "kidneybeans    100\n",
       "chickpea       100\n",
       "coffee         100\n",
       "Name: label, dtype: int64"
      ]
     },
     "execution_count": 6,
     "metadata": {},
     "output_type": "execute_result"
    }
   ],
   "source": [
    "data['label'].value_counts()"
   ]
  },
  {
   "cell_type": "code",
   "execution_count": 7,
   "id": "8fe133ae",
   "metadata": {},
   "outputs": [
    {
     "name": "stdout",
     "output_type": "stream",
     "text": [
      "Average Ratio of Nitrogen in the soil  : 50.55\n",
      "Average Ratio of Phosphorous in the soil  : 53.36\n",
      "Average Ratio of Potassium in the soil  : 48.15\n",
      "Average Ratio of Celsius in the soil  : 25.62\n",
      "Average Ratio of Humidity in the soil  : 71.48\n",
      "Average Ratio of PH value in the soil  : 6.47\n",
      "Average Ratio of Rainfall in the soil  : 103.46\n"
     ]
    }
   ],
   "source": [
    "#  Lets checks the summary of the crops \n",
    "print(\"Average Ratio of Nitrogen in the soil  : {0:.2f}\".format(data['N'].mean()))\n",
    "print(\"Average Ratio of Phosphorous in the soil  : {0:.2f}\".format(data['P'].mean()))\n",
    "print(\"Average Ratio of Potassium in the soil  : {0:.2f}\".format(data['K'].mean()))\n",
    "print(\"Average Ratio of Celsius in the soil  : {0:.2f}\".format(data['temperature'].mean()))\n",
    "print(\"Average Ratio of Humidity in the soil  : {0:.2f}\".format(data['humidity'].mean()))\n",
    "print(\"Average Ratio of PH value in the soil  : {0:.2f}\".format(data['ph'].mean()))\n",
    "print(\"Average Ratio of Rainfall in the soil  : {0:.2f}\".format(data['rainfall'].mean()))"
   ]
  },
  {
   "cell_type": "code",
   "execution_count": 8,
   "id": "1d9a75d7",
   "metadata": {},
   "outputs": [
    {
     "data": {
      "application/vnd.jupyter.widget-view+json": {
       "model_id": "fb5ffb1f0eba401db65ec6689abc7832",
       "version_major": 2,
       "version_minor": 0
      },
      "text/plain": [
       "interactive(children=(Dropdown(description='crops', options=('rice', 'maize', 'jute', 'cotton', 'coconut', 'pa…"
      ]
     },
     "metadata": {},
     "output_type": "display_data"
    }
   ],
   "source": [
    "@interact\n",
    "def summary (crops = list(data['label'].value_counts().index)):\n",
    "    x = data[data['label']==crops]\n",
    "    print(\"-----------------------------------------\")\n",
    "    print(\"Statistics for Nitrogen\")\n",
    "    print(\"Minimum Nitrogen required :\" , x['N'].min())\n",
    "    print(\"Average Nitrogen required :\" , x['N'].mean())\n",
    "    print(\"Maximun Nitrogen required :\" , x['N'].max())\n",
    "    print(\"-----------------------------------------\")\n",
    "    print(\"Statistics for Phosphorous\")\n",
    "    print(\"Minimum Phosphorous required :\" , x['P'].min())\n",
    "    print(\"Average Phosphorous required :\" , x['P'].mean())\n",
    "    print(\"Maximun Phosphorous required :\" , x['P'].max())\n",
    "    print(\"-----------------------------------------\")\n",
    "    print(\"Statistics for Potassium\")\n",
    "    print(\"Minimum Potassium required :\" , x['K'].min())\n",
    "    print(\"Average Potassium required :\" , x['K'].mean())\n",
    "    print(\"Maximun Potassium required :\" , x['K'].max())\n",
    "    print(\"-----------------------------------------\")\n",
    "    print(\"Statistics for Celsius\")\n",
    "    print(\"Minimum Celsius required :\" , x['temperature'].min())\n",
    "    print(\"Average Celsius required :\" , x['temperature'].mean())\n",
    "    print(\"Maximun Celsius required :\" , x['temperature'].max())\n",
    "    print(\"-----------------------------------------\")\n",
    "    print(\"Statistics for Humidity\")\n",
    "    print(\"Minimum Humidity required :\" , x['humidity'].min())\n",
    "    print(\"Average Humidity required :\" , x['humidity'].mean())\n",
    "    print(\"Maximun Humidity required :\" , x['humidity'].max())\n",
    "    print(\"-----------------------------------------\")\n",
    "    print(\"Statistics for PH value\")\n",
    "    print(\"Minimum PH value required :\" , x['ph'].min())\n",
    "    print(\"Average PH value required :\" , x['ph'].mean())\n",
    "    print(\"Maximun PH value required :\" , x['ph'].max())\n",
    "    print(\"-----------------------------------------\")\n",
    "    print(\"Statistics for Rainfall\")\n",
    "    print(\"Minimum Rainfall required :\" , x['rainfall'].min())\n",
    "    print(\"Average Rainfall required :\" , x['rainfall'].mean())\n",
    "    print(\"Maximun Rainfall required :\" , x['rainfall'].max())"
   ]
  },
  {
   "cell_type": "code",
   "execution_count": 9,
   "id": "90ba5b14",
   "metadata": {},
   "outputs": [
    {
     "data": {
      "application/vnd.jupyter.widget-view+json": {
       "model_id": "1a82ae7d5fd1485f8b40b3d9e531cf0d",
       "version_major": 2,
       "version_minor": 0
      },
      "text/plain": [
       "interactive(children=(Dropdown(description='conditions', options=('N', 'P', 'K', 'temperature', 'humidity', 'r…"
      ]
     },
     "metadata": {},
     "output_type": "display_data"
    }
   ],
   "source": [
    "@interact\n",
    "def compare(conditions = [\"N\" , \"P\" , \"K\" ,\"temperature\", \"humidity\" , \"rainfall\"]):\n",
    "    print(\"Crops which require greater than average\" , conditions , '\\n')\n",
    "    print(data[data[conditions] > data[conditions] .mean()]['label'].unique())\n",
    "    print(\"-----------------------------------------------------------\")\n",
    "    print(\"Crops which require less than average\" , conditions , '\\n')\n",
    "    print(data[data[conditions] <= data[conditions] .mean()]['label'].unique())"
   ]
  },
  {
   "cell_type": "code",
   "execution_count": 10,
   "id": "6c7aba2f",
   "metadata": {},
   "outputs": [
    {
     "name": "stderr",
     "output_type": "stream",
     "text": [
      "C:\\Users\\karansingh\\AppData\\Local\\Temp\\ipykernel_11920\\1346277526.py:2: UserWarning: \n",
      "\n",
      "`distplot` is a deprecated function and will be removed in seaborn v0.14.0.\n",
      "\n",
      "Please adapt your code to use either `displot` (a figure-level function with\n",
      "similar flexibility) or `histplot` (an axes-level function for histograms).\n",
      "\n",
      "For a guide to updating your code to use the new functions, please see\n",
      "https://gist.github.com/mwaskom/de44147ed2974457ad6372750bbe5751\n",
      "\n",
      "  sns.distplot(data['N'] ,color = 'cyan')\n",
      "C:\\Users\\karansingh\\AppData\\Local\\Temp\\ipykernel_11920\\1346277526.py:7: UserWarning: \n",
      "\n",
      "`distplot` is a deprecated function and will be removed in seaborn v0.14.0.\n",
      "\n",
      "Please adapt your code to use either `displot` (a figure-level function with\n",
      "similar flexibility) or `histplot` (an axes-level function for histograms).\n",
      "\n",
      "For a guide to updating your code to use the new functions, please see\n",
      "https://gist.github.com/mwaskom/de44147ed2974457ad6372750bbe5751\n",
      "\n",
      "  sns.distplot(data['P'] ,color = 'orange')\n",
      "C:\\Users\\karansingh\\AppData\\Local\\Temp\\ipykernel_11920\\1346277526.py:12: UserWarning: \n",
      "\n",
      "`distplot` is a deprecated function and will be removed in seaborn v0.14.0.\n",
      "\n",
      "Please adapt your code to use either `displot` (a figure-level function with\n",
      "similar flexibility) or `histplot` (an axes-level function for histograms).\n",
      "\n",
      "For a guide to updating your code to use the new functions, please see\n",
      "https://gist.github.com/mwaskom/de44147ed2974457ad6372750bbe5751\n",
      "\n",
      "  sns.distplot(data['K'] ,color = 'black')\n",
      "C:\\Users\\karansingh\\AppData\\Local\\Temp\\ipykernel_11920\\1346277526.py:17: UserWarning: \n",
      "\n",
      "`distplot` is a deprecated function and will be removed in seaborn v0.14.0.\n",
      "\n",
      "Please adapt your code to use either `displot` (a figure-level function with\n",
      "similar flexibility) or `histplot` (an axes-level function for histograms).\n",
      "\n",
      "For a guide to updating your code to use the new functions, please see\n",
      "https://gist.github.com/mwaskom/de44147ed2974457ad6372750bbe5751\n",
      "\n",
      "  sns.distplot(data['temperature'] ,color = 'blue')\n",
      "C:\\Users\\karansingh\\AppData\\Local\\Temp\\ipykernel_11920\\1346277526.py:22: UserWarning: \n",
      "\n",
      "`distplot` is a deprecated function and will be removed in seaborn v0.14.0.\n",
      "\n",
      "Please adapt your code to use either `displot` (a figure-level function with\n",
      "similar flexibility) or `histplot` (an axes-level function for histograms).\n",
      "\n",
      "For a guide to updating your code to use the new functions, please see\n",
      "https://gist.github.com/mwaskom/de44147ed2974457ad6372750bbe5751\n",
      "\n",
      "  sns.distplot(data['rainfall'] ,color = 'purple')\n",
      "C:\\Users\\karansingh\\AppData\\Local\\Temp\\ipykernel_11920\\1346277526.py:27: UserWarning: \n",
      "\n",
      "`distplot` is a deprecated function and will be removed in seaborn v0.14.0.\n",
      "\n",
      "Please adapt your code to use either `displot` (a figure-level function with\n",
      "similar flexibility) or `histplot` (an axes-level function for histograms).\n",
      "\n",
      "For a guide to updating your code to use the new functions, please see\n",
      "https://gist.github.com/mwaskom/de44147ed2974457ad6372750bbe5751\n",
      "\n",
      "  sns.distplot(data['humidity'] ,color = 'lightgrey')\n"
     ]
    },
    {
     "data": {
      "image/png": "[encoded data removed]",
      "text/plain": [
       "<Figure size 432x288 with 6 Axes>"
      ]
     },
     "metadata": {
      "needs_background": "light"
     },
     "output_type": "display_data"
    }
   ],
   "source": [
    "plt.subplot(2,4,1)\n",
    "sns.distplot(data['N'] ,color = 'cyan')\n",
    "plt.xlabel('R.of Nitrogen',fontsize = 10)\n",
    "plt.grid()\n",
    "\n",
    "plt.subplot(2,4,2)\n",
    "sns.distplot(data['P'] ,color = 'orange')\n",
    "plt.xlabel('R.of Phosphoras',fontsize = 10)\n",
    "plt.grid()\n",
    "\n",
    "plt.subplot(2,4,3)\n",
    "sns.distplot(data['K'] ,color = 'black')\n",
    "plt.xlabel('R.of Potassium',fontsize = 12)\n",
    "plt.grid()\n",
    "\n",
    "plt.subplot(2,4,4)\n",
    "sns.distplot(data['temperature'] ,color = 'blue')\n",
    "plt.xlabel('R.Celsius',fontsize = 12)\n",
    "plt.grid()\n",
    "\n",
    "plt.subplot(2,4,5)\n",
    "sns.distplot(data['rainfall'] ,color = 'purple')\n",
    "plt.xlabel('R.of Rainfall',fontsize = 12)\n",
    "plt.grid()\n",
    "\n",
    "plt.subplot(2,4,6)\n",
    "sns.distplot(data['humidity'] ,color = 'lightgrey')\n",
    "plt.xlabel('R.of Humidity',fontsize = 12)\n",
    "plt.grid()\n",
    "\n",
    "plt.suptitle('Distribution for Agriculture Conditons' , fontsize = 20)\n",
    "plt.show()\n"
   ]
  },
  {
   "cell_type": "code",
   "execution_count": 11,
   "id": "2bad9671",
   "metadata": {},
   "outputs": [
    {
     "name": "stdout",
     "output_type": "stream",
     "text": [
      "Some Interesting Patterns\n",
      "-----------------------------\n",
      "Crops which requires very high ratio of Nitrogen in soil ['cotton']\n",
      "Crops which requires very high ratio of Phosphorous in soil ['grapes' 'apple']\n",
      "Crops which requires very high ratio of Potassium in soil ['grapes' 'apple']\n",
      "Crops which requires very high ratio of RAILFALL  ['rice' 'papaya' 'coconut']\n",
      "Crops which requires  ratio of  low temperature  ['grapes']\n",
      "Crops which requires  ratio of high temperature in soil ['grapes' 'papaya']\n",
      "Crops which requires  ratio of low Humidity in soil ['chickpea' 'kidneybeans']\n",
      "Crops which requires  ratio of low pH in soil ['mothbeans']\n",
      "Crops which requires  ratio of high pH in soil ['mothbeans']\n"
     ]
    }
   ],
   "source": [
    "print(\"Some Interesting Patterns\")\n",
    "print(\"-----------------------------\")\n",
    "print(\"Crops which requires very high ratio of Nitrogen in soil\" , data[data['N'] > 120]['label'].unique())\n",
    "print(\"Crops which requires very high ratio of Phosphorous in soil\" , data[data['P'] > 100]['label'].unique())\n",
    "print(\"Crops which requires very high ratio of Potassium in soil\" , data[data['K'] > 200]['label'].unique())\n",
    "print(\"Crops which requires very high ratio of RAILFALL \" , data[data['rainfall'] > 200]['label'].unique())\n",
    "print(\"Crops which requires  ratio of  low temperature \" , data[data['temperature'] < 10]['label'].unique())\n",
    "print(\"Crops which requires  ratio of high temperature in soil\" , data[data['temperature'] > 40]['label'].unique())\n",
    "print(\"Crops which requires  ratio of low Humidity in soil\" , data[data['humidity'] < 20]['label'].unique())\n",
    "print(\"Crops which requires  ratio of low pH in soil\" , data[data['ph'] < 4]['label'].unique())\n",
    "print(\"Crops which requires  ratio of high pH in soil\" , data[data['ph']  > 9]['label'].unique())"
   ]
  },
  {
   "cell_type": "markdown",
   "id": "8e8cbac3",
   "metadata": {},
   "source": [
    "###### Lets understand which crops can only be grown in summer season , winter season and rainy season"
   ]
  },
  {
   "cell_type": "code",
   "execution_count": 12,
   "id": "147d1e48",
   "metadata": {},
   "outputs": [
    {
     "name": "stdout",
     "output_type": "stream",
     "text": [
      "Summer crops\n",
      "['pigeonpeas' 'mothbeans' 'blackgram' 'mango' 'grapes' 'orange' 'papaya']\n",
      "---------------------------\n",
      "Winter season\n",
      "['maize' 'pigeonpeas' 'lentil' 'pomegranate' 'grapes' 'orange']\n",
      "------------------------\n",
      "Rainy season\n",
      "['rice' 'papaya' 'coconut']\n"
     ]
    }
   ],
   "source": [
    "print(\"Summer crops\")\n",
    "print(data[(data['temperature'] > 30) & (data['humidity'] > 50)]['label'].unique())\n",
    "print(\"---------------------------\")\n",
    "print(\"Winter season\")\n",
    "print(data[(data['temperature'] < 20) & (data['humidity'] > 30)]['label'].unique())\n",
    "print(\"------------------------\")\n",
    "print(\"Rainy season\")\n",
    "print(data[(data['rainfall'] > 200) & (data['humidity'] > 30)]['label'].unique())"
   ]
  },
  {
   "cell_type": "code",
   "execution_count": 13,
   "id": "33ba5602",
   "metadata": {},
   "outputs": [
    {
     "name": "stdout",
     "output_type": "stream",
     "text": [
      "(2200, 7)\n"
     ]
    }
   ],
   "source": [
    "from sklearn.cluster import KMeans\n",
    "# remove the labels column\n",
    "x = data.drop(['label'],axis=1)\n",
    "# select all the value of the data\n",
    "x = x.values\n",
    "# checking the shape\n",
    "print(x.shape)"
   ]
  },
  {
   "cell_type": "code",
   "execution_count": 14,
   "id": "60c7c3de",
   "metadata": {},
   "outputs": [
    {
     "data": {
      "image/png": "[encoded data removed]",
      "text/plain": [
       "<Figure size 720x288 with 1 Axes>"
      ]
     },
     "metadata": {
      "needs_background": "light"
     },
     "output_type": "display_data"
    }
   ],
   "source": [
    "plt.rcParams['figure.figsize']=(10,4)\n",
    "wcss=[]\n",
    "for i in range(1,11):\n",
    "    km = KMeans(n_clusters = i,init ='k-means++' , max_iter = 300,n_init = 10,random_state=0)\n",
    "    km.fit(x)\n",
    "    wcss.append(km.inertia_)\n",
    "plt.plot(range(1,11),wcss)\n",
    "plt.title('The Elbow Method',fontsize=20)\n",
    "plt.xlabel('No. of cluster')\n",
    "plt.ylabel('wcss')\n",
    "plt.show()"
   ]
  },
  {
   "cell_type": "code",
   "execution_count": 15,
   "id": "f1ca53c3",
   "metadata": {},
   "outputs": [
    {
     "name": "stdout",
     "output_type": "stream",
     "text": [
      "Lets check the result After the j means clustering analysis \n",
      "Crops in First Cluster: ['maize' 'chickpea' 'kidneybeans' 'pigeonpeas' 'mothbeans' 'mungbean'\n",
      " 'blackgram' 'lentil' 'pomegranate' 'mango' 'orange' 'papaya' 'coconut']\n",
      "--------------------------------------------------------------------\n",
      "Crops in Second Cluster: ['maize' 'banana' 'watermelon' 'muskmelon' 'papaya' 'cotton' 'coffee']\n",
      "--------------------------------------------------------------------\n",
      "Crops in Third Cluster: ['grapes' 'apple']\n",
      "--------------------------------------------------------------------\n",
      "Crops in fourth Cluster: ['rice' 'pigeonpeas' 'papaya' 'coconut' 'jute' 'coffee']\n",
      "--------------------------------------------------------------------\n"
     ]
    }
   ],
   "source": [
    "km = KMeans(n_clusters = 4 , init = 'k-means++',max_iter = 300,n_init = 10 , random_state = 0)\n",
    "y_means = km.fit_predict(x)\n",
    "# Lets find out the result\n",
    "a = data['label']\n",
    "y_means = pd.DataFrame(y_means)\n",
    "z = pd.concat([y_means , a],axis=1)\n",
    "z = z.rename(columns = {0:'cluster'})\n",
    "# check the cluster of each crops \n",
    "print(\"Lets check the result After the j means clustering analysis \")\n",
    "print(\"Crops in First Cluster:\" ,z[z['cluster']==0]['label'].unique())\n",
    "print(\"--------------------------------------------------------------------\")\n",
    "print(\"Crops in Second Cluster:\" ,z[z['cluster']==1]['label'].unique())\n",
    "print(\"--------------------------------------------------------------------\")\n",
    "print(\"Crops in Third Cluster:\" ,z[z['cluster']==2]['label'].unique())\n",
    "print(\"--------------------------------------------------------------------\")\n",
    "print(\"Crops in fourth Cluster:\" ,z[z['cluster']==3]['label'].unique())\n",
    "print(\"--------------------------------------------------------------------\")"
   ]
  },
  {
   "cell_type": "code",
   "execution_count": 16,
   "id": "424ca9b5",
   "metadata": {},
   "outputs": [
    {
     "name": "stdout",
     "output_type": "stream",
     "text": [
      "Shape of x : (2200, 7)\n",
      "Shape of y : (2200,)\n"
     ]
    }
   ],
   "source": [
    "y = data['label']\n",
    "x = data.drop(['label'],axis = 1)\n",
    "\n",
    "print(\"Shape of x :\" ,x.shape)\n",
    "print(\"Shape of y :\" ,y.shape)"
   ]
  },
  {
   "cell_type": "code",
   "execution_count": 17,
   "id": "4dd75b75",
   "metadata": {},
   "outputs": [
    {
     "name": "stdout",
     "output_type": "stream",
     "text": [
      "The shape of x train (1760, 7)\n",
      "The shape of x test (440, 7)\n",
      "The shape of y train (1760,)\n",
      "The shape of y test (440,)\n"
     ]
    }
   ],
   "source": [
    "from sklearn.model_selection import train_test_split\n",
    "x_train , x_test ,y_train,y_test = train_test_split(x,y,test_size = 0.2,random_state = 0)\n",
    "\n",
    "print(\"The shape of x train\",x_train.shape)\n",
    "print(\"The shape of x test\",x_test.shape)\n",
    "print(\"The shape of y train\",y_train.shape)\n",
    "print(\"The shape of y test\",y_test.shape)"
   ]
  },
  {
   "cell_type": "code",
   "execution_count": 18,
   "id": "46994882",
   "metadata": {},
   "outputs": [
    {
     "name": "stderr",
     "output_type": "stream",
     "text": [
      "C:\\Users\\karansingh\\AppData\\Roaming\\Python\\Python310\\site-packages\\sklearn\\linear_model\\_logistic.py:444: ConvergenceWarning: lbfgs failed to converge (status=1):\n",
      "STOP: TOTAL NO. of ITERATIONS REACHED LIMIT.\n",
      "\n",
      "Increase the number of iterations (max_iter) or scale the data as shown in:\n",
      "    https://scikit-learn.org/stable/modules/preprocessing.html\n",
      "Please also refer to the documentation for alternative solver options:\n",
      "    https://scikit-learn.org/stable/modules/linear_model.html#logistic-regression\n",
      "  n_iter_i = _check_optimize_result(\n"
     ]
    }
   ],
   "source": [
    "from sklearn.linear_model import LogisticRegression\n",
    "\n",
    "model = LogisticRegression()\n",
    "model.fit(x_train , y_train)\n",
    "y_pred = model.predict(x_test)"
   ]
  },
  {
   "cell_type": "code",
   "execution_count": 25,
   "id": "0df6ef89",
   "metadata": {},
   "outputs": [
    {
     "data": {
      "image/png": "[encoded data removed]",
      "text/plain": [
       "<Figure size 720x720 with 2 Axes>"
      ]
     },
     "metadata": {
      "needs_background": "light"
     },
     "output_type": "display_data"
    }
   ],
   "source": [
    "from sklearn.metrics import confusion_matrix\n",
    "\n",
    "plt.rcParams['figure.figsize'] = (10,10)\n",
    "cm = confusion_matrix(y_test,y_pred)\n",
    "sns.heatmap(cm, annot = True ,cmap = 'Wistia')\n",
    "plt.title(\"Confusion Matrix for Logistic Regression\",fontsize = 15)\n",
    "plt.show()\n",
    "# cr = classification_report(y_test,y_pred)\n",
    "# print(cr)"
   ]
  },
  {
   "cell_type": "code",
   "execution_count": 26,
   "id": "e537369f",
   "metadata": {},
   "outputs": [
    {
     "data": {
      "text/html": [
       "<div>\n",
       "<style scoped>\n",
       "    .dataframe tbody tr th:only-of-type {\n",
       "        vertical-align: middle;\n",
       "    }\n",
       "\n",
       "    .dataframe tbody tr th {\n",
       "        vertical-align: top;\n",
       "    }\n",
       "\n",
       "    .dataframe thead th {\n",
       "        text-align: right;\n",
       "    }\n",
       "</style>\n",
       "<table border=\"1\" class=\"dataframe\">\n",
       "  <thead>\n",
       "    <tr style=\"text-align: right;\">\n",
       "      <th></th>\n",
       "      <th>N</th>\n",
       "      <th>P</th>\n",
       "      <th>K</th>\n",
       "      <th>temperature</th>\n",
       "      <th>humidity</th>\n",
       "      <th>ph</th>\n",
       "      <th>rainfall</th>\n",
       "      <th>label</th>\n",
       "    </tr>\n",
       "  </thead>\n",
       "  <tbody>\n",
       "    <tr>\n",
       "      <th>0</th>\n",
       "      <td>90</td>\n",
       "      <td>42</td>\n",
       "      <td>43</td>\n",
       "      <td>20.879744</td>\n",
       "      <td>82.002744</td>\n",
       "      <td>6.502985</td>\n",
       "      <td>202.935536</td>\n",
       "      <td>rice</td>\n",
       "    </tr>\n",
       "    <tr>\n",
       "      <th>1</th>\n",
       "      <td>85</td>\n",
       "      <td>58</td>\n",
       "      <td>41</td>\n",
       "      <td>21.770462</td>\n",
       "      <td>80.319644</td>\n",
       "      <td>7.038096</td>\n",
       "      <td>226.655537</td>\n",
       "      <td>rice</td>\n",
       "    </tr>\n",
       "    <tr>\n",
       "      <th>2</th>\n",
       "      <td>60</td>\n",
       "      <td>55</td>\n",
       "      <td>44</td>\n",
       "      <td>23.004459</td>\n",
       "      <td>82.320763</td>\n",
       "      <td>7.840207</td>\n",
       "      <td>263.964248</td>\n",
       "      <td>rice</td>\n",
       "    </tr>\n",
       "    <tr>\n",
       "      <th>3</th>\n",
       "      <td>74</td>\n",
       "      <td>35</td>\n",
       "      <td>40</td>\n",
       "      <td>26.491096</td>\n",
       "      <td>80.158363</td>\n",
       "      <td>6.980401</td>\n",
       "      <td>242.864034</td>\n",
       "      <td>rice</td>\n",
       "    </tr>\n",
       "    <tr>\n",
       "      <th>4</th>\n",
       "      <td>78</td>\n",
       "      <td>42</td>\n",
       "      <td>42</td>\n",
       "      <td>20.130175</td>\n",
       "      <td>81.604873</td>\n",
       "      <td>7.628473</td>\n",
       "      <td>262.717340</td>\n",
       "      <td>rice</td>\n",
       "    </tr>\n",
       "  </tbody>\n",
       "</table>\n",
       "</div>"
      ],
      "text/plain": [
       "    N   P   K  temperature   humidity        ph    rainfall label\n",
       "0  90  42  43    20.879744  82.002744  6.502985  202.935536  rice\n",
       "1  85  58  41    21.770462  80.319644  7.038096  226.655537  rice\n",
       "2  60  55  44    23.004459  82.320763  7.840207  263.964248  rice\n",
       "3  74  35  40    26.491096  80.158363  6.980401  242.864034  rice\n",
       "4  78  42  42    20.130175  81.604873  7.628473  262.717340  rice"
      ]
     },
     "execution_count": 26,
     "metadata": {},
     "output_type": "execute_result"
    }
   ],
   "source": [
    "data.head()"
   ]
  },
  {
   "cell_type": "code",
   "execution_count": 27,
   "id": "eba61436",
   "metadata": {},
   "outputs": [
    {
     "name": "stdout",
     "output_type": "stream",
     "text": [
      "Suggestion crop for given climatic condition is ['coffee']\n"
     ]
    },
    {
     "name": "stderr",
     "output_type": "stream",
     "text": [
      "C:\\Users\\karansingh\\AppData\\Roaming\\Python\\Python310\\site-packages\\sklearn\\base.py:450: UserWarning: X does not have valid feature names, but LogisticRegression was fitted with feature names\n",
      "  warnings.warn(\n"
     ]
    }
   ],
   "source": [
    "# prediction of data\n",
    "prediction = model.predict((np.array([[90,40,40,20,5,7,150]])))\n",
    "print(\"Suggestion crop for given climatic condition is\",prediction)"
   ]
  },
  {
   "cell_type": "code",
   "execution_count": null,
   "id": "39ec33cb",
   "metadata": {},
   "outputs": [],
   "source": []
  }
 ],
 "metadata": {
  "kernelspec": {
   "display_name": "Python 3 (ipykernel)",
   "language": "python",
   "name": "python3"
  },
  "language_info": {
   "codemirror_mode": {
    "name": "ipython",
    "version": 3
   },
   "file_extension": ".py",
   "mimetype": "text/x-python",
   "name": "python",
   "nbconvert_exporter": "python",
   "pygments_lexer": "ipython3",
   "version": "3.10.6"
  }
 },
 "nbformat": 4,
 "nbformat_minor": 5
}
